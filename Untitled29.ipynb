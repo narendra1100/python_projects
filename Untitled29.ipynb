{
 "cells": [
  {
   "cell_type": "code",
   "execution_count": 1,
   "metadata": {},
   "outputs": [],
   "source": [
    "from sklearn import linear_model\n",
    "import pandas as pd\n",
    "from matplotlib import pyplot as plt\n",
    "import numpy as np"
   ]
  },
  {
   "cell_type": "code",
   "execution_count": 2,
   "metadata": {},
   "outputs": [],
   "source": [
    "csv=pd.DataFrame({\"areas_sq\":[300,500,564,341,211,648,678,279,789],\"prices\":[21565,32454,35569,23454,17665,39878,43658,16542,51543]})"
   ]
  },
  {
   "cell_type": "code",
   "execution_count": 3,
   "metadata": {},
   "outputs": [
    {
     "data": {
      "text/html": [
       "<div>\n",
       "<style scoped>\n",
       "    .dataframe tbody tr th:only-of-type {\n",
       "        vertical-align: middle;\n",
       "    }\n",
       "\n",
       "    .dataframe tbody tr th {\n",
       "        vertical-align: top;\n",
       "    }\n",
       "\n",
       "    .dataframe thead th {\n",
       "        text-align: right;\n",
       "    }\n",
       "</style>\n",
       "<table border=\"1\" class=\"dataframe\">\n",
       "  <thead>\n",
       "    <tr style=\"text-align: right;\">\n",
       "      <th></th>\n",
       "      <th>areas_sq</th>\n",
       "      <th>prices</th>\n",
       "    </tr>\n",
       "  </thead>\n",
       "  <tbody>\n",
       "    <tr>\n",
       "      <th>0</th>\n",
       "      <td>300</td>\n",
       "      <td>21565</td>\n",
       "    </tr>\n",
       "    <tr>\n",
       "      <th>1</th>\n",
       "      <td>500</td>\n",
       "      <td>32454</td>\n",
       "    </tr>\n",
       "    <tr>\n",
       "      <th>2</th>\n",
       "      <td>564</td>\n",
       "      <td>35569</td>\n",
       "    </tr>\n",
       "    <tr>\n",
       "      <th>3</th>\n",
       "      <td>341</td>\n",
       "      <td>23454</td>\n",
       "    </tr>\n",
       "    <tr>\n",
       "      <th>4</th>\n",
       "      <td>211</td>\n",
       "      <td>17665</td>\n",
       "    </tr>\n",
       "    <tr>\n",
       "      <th>5</th>\n",
       "      <td>648</td>\n",
       "      <td>39878</td>\n",
       "    </tr>\n",
       "    <tr>\n",
       "      <th>6</th>\n",
       "      <td>678</td>\n",
       "      <td>43658</td>\n",
       "    </tr>\n",
       "    <tr>\n",
       "      <th>7</th>\n",
       "      <td>279</td>\n",
       "      <td>16542</td>\n",
       "    </tr>\n",
       "    <tr>\n",
       "      <th>8</th>\n",
       "      <td>789</td>\n",
       "      <td>51543</td>\n",
       "    </tr>\n",
       "  </tbody>\n",
       "</table>\n",
       "</div>"
      ],
      "text/plain": [
       "   areas_sq  prices\n",
       "0       300   21565\n",
       "1       500   32454\n",
       "2       564   35569\n",
       "3       341   23454\n",
       "4       211   17665\n",
       "5       648   39878\n",
       "6       678   43658\n",
       "7       279   16542\n",
       "8       789   51543"
      ]
     },
     "execution_count": 3,
     "metadata": {},
     "output_type": "execute_result"
    }
   ],
   "source": [
    "csv"
   ]
  },
  {
   "cell_type": "code",
   "execution_count": 5,
   "metadata": {},
   "outputs": [],
   "source": [
    "from matplotlib.animation import FuncAnimation"
   ]
  },
  {
   "cell_type": "code",
   "execution_count": 47,
   "metadata": {},
   "outputs": [],
   "source": [
    "def slop(x,y):\n",
    "    x_bar=sum([i for i in x])/len(x)\n",
    "    #print(\"x_bar:\",x_bar)\n",
    "    y_bar=sum([i for i in y])/len(y)\n",
    "    #print(\"y_bar:\",y_bar)\n",
    "    val1=[]\n",
    "    val2=[]\n",
    "    for i,j in zip(x,y):\n",
    "        val1.append(i-x_bar)\n",
    "        val2.append(j-y_bar)\n",
    "    #print(\"before val\",val1)\n",
    "    #print(\"before val2\",val2)\n",
    "    \n",
    "    val1=np.asarray(val1)\n",
    "    val2=np.asarray(val2)\n",
    "    #print(\"array val1\",val1)\n",
    "    #print(\"array val2\",val2)\n",
    "    num=sum((val1*val2))\n",
    "    #print(val1,val2,\"numarator\",num)\n",
    "    din=sum(val1**2)\n",
    "    print(\"squareval\",din)\n",
    "    slopval=num/din\n",
    "    print(slopval)\n",
    "    "
   ]
  },
  {
   "cell_type": "code",
   "execution_count": 86,
   "metadata": {},
   "outputs": [],
   "source": [
    "slop(csv[\"areas_sq\"],csv[\"prices\"])"
   ]
  },
  {
   "cell_type": "code",
   "execution_count": 87,
   "metadata": {},
   "outputs": [],
   "source": [
    "t=linear_model.LinearRegression()"
   ]
  },
  {
   "cell_type": "code",
   "execution_count": 88,
   "metadata": {},
   "outputs": [
    {
     "data": {
      "text/plain": [
       "LinearRegression()"
      ]
     },
     "execution_count": 88,
     "metadata": {},
     "output_type": "execute_result"
    }
   ],
   "source": [
    "t.fit(csv[[\"areas_sq\"]],csv[[\"prices\"]])"
   ]
  },
  {
   "cell_type": "code",
   "execution_count": 89,
   "metadata": {},
   "outputs": [
    {
     "data": {
      "text/plain": [
       "array([[20683.29746092],\n",
       "       [32630.91520648],\n",
       "       [36454.15288505],\n",
       "       [23132.55909876],\n",
       "       [15366.60756415],\n",
       "       [41472.15233819],\n",
       "       [43264.29500002],\n",
       "       [19428.79759764],\n",
       "       [49895.2228488 ]])"
      ]
     },
     "execution_count": 89,
     "metadata": {},
     "output_type": "execute_result"
    }
   ],
   "source": [
    "t.predict(csv[[\"areas_sq\"]])"
   ]
  },
  {
   "cell_type": "code",
   "execution_count": 90,
   "metadata": {},
   "outputs": [
    {
     "data": {
      "text/plain": [
       "array([[59.73808873]])"
      ]
     },
     "execution_count": 90,
     "metadata": {},
     "output_type": "execute_result"
    }
   ],
   "source": [
    "t.coef_\n"
   ]
  },
  {
   "cell_type": "code",
   "execution_count": 98,
   "metadata": {},
   "outputs": [],
   "source": [
    "def slop(x,y):\n",
    "    x=np.asarray(x)\n",
    "    y=np.asarray(y)\n",
    "    #print(x-np.mean(x))\n",
    "    m=(sum((x-np.mean(x))*(y-np.mean(y))))/sum((x-np.mean(x))**2)\n",
    "    intercept=np.mean(y)-m*np.mean(x)\n",
    "    vals=[m,intercept]\n",
    "    #print(vals)\n",
    "    return vals"
   ]
  },
  {
   "cell_type": "code",
   "execution_count": 100,
   "metadata": {},
   "outputs": [
    {
     "name": "stdout",
     "output_type": "stream",
     "text": [
      "[59.73808873]\n"
     ]
    }
   ],
   "source": [
    "v=(slop(csv[[\"areas_sq\"]],csv[[\"prices\"]])[0])"
   ]
  },
  {
   "cell_type": "code",
   "execution_count": 85,
   "metadata": {},
   "outputs": [
    {
     "ename": "SyntaxError",
     "evalue": "invalid syntax (<ipython-input-85-210aaabae2a4>, line 1)",
     "output_type": "error",
     "traceback": [
      "\u001b[1;36m  File \u001b[1;32m\"<ipython-input-85-210aaabae2a4>\"\u001b[1;36m, line \u001b[1;32m1\u001b[0m\n\u001b[1;33m    slop.\u001b[0m\n\u001b[1;37m         ^\u001b[0m\n\u001b[1;31mSyntaxError\u001b[0m\u001b[1;31m:\u001b[0m invalid syntax\n"
     ]
    }
   ],
   "source": []
  },
  {
   "cell_type": "code",
   "execution_count": 109,
   "metadata": {},
   "outputs": [],
   "source": [
    "def pridict(x,y):\n",
    "    x=np.array(x)\n",
    "    y=np.array(y)\n",
    "    m=slop(x,y)\n",
    "    y_pridiction=m[0]*x+m[1]\n",
    "    return (y_pridiction)\n",
    "    \n",
    "    "
   ]
  },
  {
   "cell_type": "code",
   "execution_count": 110,
   "metadata": {},
   "outputs": [],
   "source": [
    "e=pridict(csv[[\"areas_sq\"]],csv[[\"prices\"]])"
   ]
  },
  {
   "cell_type": "code",
   "execution_count": 111,
   "metadata": {},
   "outputs": [
    {
     "data": {
      "text/plain": [
       "array([[20683.29746092],\n",
       "       [32630.91520648],\n",
       "       [36454.15288505],\n",
       "       [23132.55909876],\n",
       "       [15366.60756415],\n",
       "       [41472.15233819],\n",
       "       [43264.29500002],\n",
       "       [19428.79759764],\n",
       "       [49895.2228488 ]])"
      ]
     },
     "execution_count": 111,
     "metadata": {},
     "output_type": "execute_result"
    }
   ],
   "source": [
    "e"
   ]
  },
  {
   "cell_type": "code",
   "execution_count": 114,
   "metadata": {},
   "outputs": [
    {
     "data": {
      "text/plain": [
       "[<matplotlib.lines.Line2D at 0x24cd310d160>]"
      ]
     },
     "execution_count": 114,
     "metadata": {},
     "output_type": "execute_result"
    },
    {
     "data": {
      "image/png": "[encoded data removed]",
      "text/plain": [
       "<Figure size 432x288 with 1 Axes>"
      ]
     },
     "metadata": {
      "needs_background": "light"
     },
     "output_type": "display_data"
    }
   ],
   "source": [
    "plt.scatter(csv[\"areas_sq\"],csv[\"prices\"],color=\"k\")\n",
    "plt.scatter(csv[\"areas_sq\"],e,color=\"b\")\n",
    "plt.plot(csv[\"areas_sq\"],e,color=\"m\")"
   ]
  },
  {
   "cell_type": "code",
   "execution_count": 119,
   "metadata": {},
   "outputs": [],
   "source": [
    "def Rsquar(y_c,y):\n",
    "    y_c=np.asarray(y_c)\n",
    "    y=np.asarray(y)\n",
    "    ssr=sum((y_c-np.mean(y))**2)\n",
    "    sst=sum((y-np.mean(y))**2)\n",
    "    sse=ssr/sst\n",
    "    return sse"
   ]
  },
  {
   "cell_type": "code",
   "execution_count": 120,
   "metadata": {},
   "outputs": [
    {
     "name": "stdout",
     "output_type": "stream",
     "text": [
      "[0.98295276]\n"
     ]
    }
   ],
   "source": [
    "print(Rsquar(e,csv[[\"prices\"]]))"
   ]
  },
  {
   "cell_type": "code",
   "execution_count": 122,
   "metadata": {},
   "outputs": [
    {
     "data": {
      "text/plain": [
       "0.9829527642672039"
      ]
     },
     "execution_count": 122,
     "metadata": {},
     "output_type": "execute_result"
    }
   ],
   "source": [
    "t.score(csv[[\"areas_sq\"]],csv[[\"prices\"]])\n"
   ]
  },
  {
   "cell_type": "code",
   "execution_count": null,
   "metadata": {},
   "outputs": [],
   "source": []
  }
 ],
 "metadata": {
  "kernelspec": {
   "display_name": "Python 3",
   "language": "python",
   "name": "python3"
  },
  "language_info": {
   "codemirror_mode": {
    "name": "ipython",
    "version": 3
   },
   "file_extension": ".py",
   "mimetype": "text/x-python",
   "name": "python",
   "nbconvert_exporter": "python",
   "pygments_lexer": "ipython3",
   "version": "3.8.3"
  }
 },
 "nbformat": 4,
 "nbformat_minor": 4
}
