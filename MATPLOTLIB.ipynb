{
 "cells": [
  {
   "cell_type": "code",
   "execution_count": 1,
   "metadata": {},
   "outputs": [],
   "source": [
    "import pandas as pd\n",
    "import numpy as np\n",
    "from matplotlib import pyplot as plt\n"
   ]
  },
  {
   "cell_type": "code",
   "execution_count": 3,
   "metadata": {},
   "outputs": [],
   "source": [
    "df=pd.read_csv(\"E:\\data\\giri.csv\")"
   ]
  },
  {
   "cell_type": "code",
   "execution_count": 5,
   "metadata": {},
   "outputs": [],
   "source": [
    "df.drop(df.columns[0],axis=1,inplace=True)"
   ]
  },
  {
   "cell_type": "code",
   "execution_count": 17,
   "metadata": {},
   "outputs": [],
   "source": [
    "t=df.columns"
   ]
  },
  {
   "cell_type": "code",
   "execution_count": 21,
   "metadata": {},
   "outputs": [
    {
     "data": {
      "text/plain": [
       "'\\nfor i in df.columns:\\n    plt.plot(df[i],df[\"profit\"],color=\"g\",label=i)\\n    plt.xlabel(i)\\n    plt.ylabel(\"profit\")\\n    plt.grid(True)\\n   '"
      ]
     },
     "execution_count": 21,
     "metadata": {},
     "output_type": "execute_result"
    }
   ],
   "source": [
    "'''\n",
    "for i in df.columns:\n",
    "    plt.plot(df[i],df[\"profit\"],color=\"g\",label=i)\n",
    "    plt.xlabel(i)\n",
    "    plt.ylabel(\"profit\")\n",
    "    plt.grid(True)\n",
    "   ''' "
   ]
  },
  {
   "cell_type": "code",
   "execution_count": 27,
   "metadata": {},
   "outputs": [
    {
     "data": {
      "text/html": [
       "<div>\n",
       "<style scoped>\n",
       "    .dataframe tbody tr th:only-of-type {\n",
       "        vertical-align: middle;\n",
       "    }\n",
       "\n",
       "    .dataframe tbody tr th {\n",
       "        vertical-align: top;\n",
       "    }\n",
       "\n",
       "    .dataframe thead th {\n",
       "        text-align: right;\n",
       "    }\n",
       "</style>\n",
       "<table border=\"1\" class=\"dataframe\">\n",
       "  <thead>\n",
       "    <tr style=\"text-align: right;\">\n",
       "      <th></th>\n",
       "      <th>date</th>\n",
       "      <th>segment</th>\n",
       "      <th>country</th>\n",
       "      <th>product</th>\n",
       "      <th>discountband</th>\n",
       "      <th>unitssold</th>\n",
       "      <th>manufacturingprice</th>\n",
       "      <th>saleprice</th>\n",
       "      <th>grosssales</th>\n",
       "      <th>discounts</th>\n",
       "      <th>sales</th>\n",
       "      <th>cogs</th>\n",
       "      <th>profit</th>\n",
       "    </tr>\n",
       "  </thead>\n",
       "  <tbody>\n",
       "    <tr>\n",
       "      <th>0</th>\n",
       "      <td>2013-01-01 00:09:00</td>\n",
       "      <td>Small Business</td>\n",
       "      <td>France</td>\n",
       "      <td>Montana</td>\n",
       "      <td>Medium</td>\n",
       "      <td>322.0</td>\n",
       "      <td>5.0</td>\n",
       "      <td>300.0</td>\n",
       "      <td>96600.0</td>\n",
       "      <td>8694.0</td>\n",
       "      <td>87906.0</td>\n",
       "      <td>80500.0</td>\n",
       "      <td>5.0</td>\n",
       "    </tr>\n",
       "    <tr>\n",
       "      <th>1</th>\n",
       "      <td>2013-01-01 00:09:00</td>\n",
       "      <td>Government</td>\n",
       "      <td>Canada</td>\n",
       "      <td>Velo</td>\n",
       "      <td>Low</td>\n",
       "      <td>2646.0</td>\n",
       "      <td>120.0</td>\n",
       "      <td>20.0</td>\n",
       "      <td>52920.0</td>\n",
       "      <td>2116.8</td>\n",
       "      <td>50803.2</td>\n",
       "      <td>26460.0</td>\n",
       "      <td>120.0</td>\n",
       "    </tr>\n",
       "  </tbody>\n",
       "</table>\n",
       "</div>"
      ],
      "text/plain": [
       "                  date         segment country    product discountband  \\\n",
       "0  2013-01-01 00:09:00  Small Business  France   Montana       Medium    \n",
       "1  2013-01-01 00:09:00      Government  Canada      Velo          Low    \n",
       "\n",
       "   unitssold  manufacturingprice  saleprice  grosssales  discounts    sales  \\\n",
       "0      322.0                 5.0      300.0     96600.0     8694.0  87906.0   \n",
       "1     2646.0               120.0       20.0     52920.0     2116.8  50803.2   \n",
       "\n",
       "      cogs  profit  \n",
       "0  80500.0     5.0  \n",
       "1  26460.0   120.0  "
      ]
     },
     "execution_count": 27,
     "metadata": {},
     "output_type": "execute_result"
    }
   ],
   "source": [
    "df.head(2)"
   ]
  },
  {
   "cell_type": "code",
   "execution_count": 32,
   "metadata": {},
   "outputs": [
    {
     "data": {
      "text/plain": [
       "Text(0, 0.5, 'profit')"
      ]
     },
     "execution_count": 32,
     "metadata": {},
     "output_type": "execute_result"
    },
    {
     "data": {
      "image/png": "[encoded data removed]",
      "text/plain": [
       "<Figure size 432x288 with 1 Axes>"
      ]
     },
     "metadata": {
      "needs_background": "light"
     },
     "output_type": "display_data"
    }
   ],
   "source": [
    "'''\n",
    "plt.plot(df.cogs,df.profit)\n",
    "plt.plot(df.discounts,df.sales)\n",
    "plt.xlabel(\"manufacturingprice\")\n",
    "\n",
    "plt.ylabel(\"profit\")\n",
    "'''\n"
   ]
  },
  {
   "cell_type": "code",
   "execution_count": 80,
   "metadata": {},
   "outputs": [],
   "source": [
    "python=sorted(np.array(np.random.randint(100,700,size=(10))))\n"
   ]
  },
  {
   "cell_type": "code",
   "execution_count": 81,
   "metadata": {},
   "outputs": [],
   "source": [
    "java=sorted(np.array(np.random.randint(50,500,size=(10))))"
   ]
  },
  {
   "cell_type": "code",
   "execution_count": 91,
   "metadata": {},
   "outputs": [],
   "source": [
    "ml=sorted(np.array(np.random.randint(300,1000,size=(10))))"
   ]
  },
  {
   "cell_type": "code",
   "execution_count": 92,
   "metadata": {},
   "outputs": [
    {
     "data": {
      "text/plain": [
       "array([113, 211, 213, 219, 247, 318, 323, 503, 504, 600])"
      ]
     },
     "execution_count": 92,
     "metadata": {},
     "output_type": "execute_result"
    }
   ],
   "source": [
    "python=np.sort(python)\n",
    "python"
   ]
  },
  {
   "cell_type": "code",
   "execution_count": 93,
   "metadata": {},
   "outputs": [
    {
     "data": {
      "text/plain": [
       "[87, 87, 149, 158, 208, 236, 264, 387, 396, 397]"
      ]
     },
     "execution_count": 93,
     "metadata": {},
     "output_type": "execute_result"
    }
   ],
   "source": [
    "java"
   ]
  },
  {
   "cell_type": "code",
   "execution_count": 97,
   "metadata": {},
   "outputs": [
    {
     "data": {
      "text/plain": [
       "array([113, 211, 213, 219, 247, 318, 323, 503, 504, 600])"
      ]
     },
     "execution_count": 97,
     "metadata": {},
     "output_type": "execute_result"
    }
   ],
   "source": [
    "python"
   ]
  },
  {
   "cell_type": "code",
   "execution_count": 103,
   "metadata": {},
   "outputs": [
    {
     "data": {
      "image/png": "[encoded data removed]",
      "text/plain": [
       "<Figure size 432x288 with 1 Axes>"
      ]
     },
     "metadata": {},
     "output_type": "display_data"
    }
   ],
   "source": [
    "#plt.style.use(\"fivethirtyeight\")\n",
    "plt.plot(java,python,\"k--\",marker=\"*\",label=\"java\")\n",
    "plt.plot(ml,python,\"m-.\",marker=\"o\",label=\"ml\")\n",
    "#plt.plot(python,ml,\"g:\",marker=\"s\")\n",
    "plt.ylabel(\"python\")\n",
    "plt.legend()\n",
    "plt.grid()\n"
   ]
  },
  {
   "cell_type": "code",
   "execution_count": 105,
   "metadata": {},
   "outputs": [
    {
     "data": {
      "text/plain": [
       "<BarContainer object of 10 artists>"
      ]
     },
     "execution_count": 105,
     "metadata": {},
     "output_type": "execute_result"
    },
    {
     "data": {
      "image/png": "[encoded data removed]",
      "text/plain": [
       "<Figure size 432x288 with 1 Axes>"
      ]
     },
     "metadata": {},
     "output_type": "display_data"
    }
   ],
   "source": [
    "plt.barh(python,ml)"
   ]
  },
  {
   "cell_type": "code",
   "execution_count": 111,
   "metadata": {},
   "outputs": [
    {
     "data": {
      "text/plain": [
       "<matplotlib.legend.Legend at 0x1a747d87550>"
      ]
     },
     "execution_count": 111,
     "metadata": {},
     "output_type": "execute_result"
    },
    {
     "data": {
      "image/png": "[encoded data removed]",
      "text/plain": [
       "<Figure size 432x288 with 1 Axes>"
      ]
     },
     "metadata": {},
     "output_type": "display_data"
    }
   ],
   "source": [
    "x_ind=np.array(len(ml))\n",
    "width=0.005\n",
    "plt.bar(x_ind,python,color=\"r\",label=\"python\",width=width)\n",
    "plt.bar(x_ind,java,color=\"g\",label=\"java\",width=width)\n",
    "#plt.bar(x_ind+width,ml,color=\"m\",label=\"ml\",width=width)\n",
    "plt.legend()\n"
   ]
  },
  {
   "cell_type": "code",
   "execution_count": 124,
   "metadata": {},
   "outputs": [
    {
     "data": {
      "text/plain": [
       "[<matplotlib.collections.PolyCollection at 0x1a7496be130>,\n",
       " <matplotlib.collections.PolyCollection at 0x1a7496be280>,\n",
       " <matplotlib.collections.PolyCollection at 0x1a749705820>]"
      ]
     },
     "execution_count": 124,
     "metadata": {},
     "output_type": "execute_result"
    },
    {
     "data": {
      "image/png": "[encoded data removed]",
      "text/plain": [
       "<Figure size 432x288 with 1 Axes>"
      ]
     },
     "metadata": {},
     "output_type": "display_data"
    }
   ],
   "source": [
    "time=[1,2,3,4,5,6,7,8,9,10]\n",
    "plt.stackplot(time,java,python,ml)\n"
   ]
  },
  {
   "cell_type": "code",
   "execution_count": 125,
   "metadata": {},
   "outputs": [
    {
     "data": {
      "text/plain": [
       "array([113, 211, 213, 219, 247, 318, 323, 503, 504, 600])"
      ]
     },
     "execution_count": 125,
     "metadata": {},
     "output_type": "execute_result"
    }
   ],
   "source": [
    "python"
   ]
  },
  {
   "cell_type": "code",
   "execution_count": 126,
   "metadata": {},
   "outputs": [
    {
     "data": {
      "text/plain": [
       "[87, 87, 149, 158, 208, 236, 264, 387, 396, 397]"
      ]
     },
     "execution_count": 126,
     "metadata": {},
     "output_type": "execute_result"
    }
   ],
   "source": [
    "java"
   ]
  },
  {
   "cell_type": "code",
   "execution_count": 127,
   "metadata": {},
   "outputs": [
    {
     "data": {
      "text/plain": [
       "[418, 427, 583, 641, 647, 710, 777, 868, 935, 975]"
      ]
     },
     "execution_count": 127,
     "metadata": {},
     "output_type": "execute_result"
    }
   ],
   "source": [
    "ml"
   ]
  },
  {
   "cell_type": "code",
   "execution_count": 131,
   "metadata": {},
   "outputs": [
    {
     "data": {
      "text/plain": [
       "<matplotlib.collections.PolyCollection at 0x1a7497f2640>"
      ]
     },
     "execution_count": 131,
     "metadata": {},
     "output_type": "execute_result"
    },
    {
     "data": {
      "image/png": "[encoded data removed]",
      "text/plain": [
       "<Figure size 432x288 with 1 Axes>"
      ]
     },
     "metadata": {},
     "output_type": "display_data"
    }
   ],
   "source": [
    "over=300\n",
    "plt.fill_between(python,java,over,linestyle=\"-\",alpha=0.25)\n",
    "plt.fill_between(python,ml,linestyle=\":\")\n"
   ]
  },
  {
   "cell_type": "code",
   "execution_count": null,
   "metadata": {},
   "outputs": [],
   "source": []
  }
 ],
 "metadata": {
  "kernelspec": {
   "display_name": "Python 3",
   "language": "python",
   "name": "python3"
  },
  "language_info": {
   "codemirror_mode": {
    "name": "ipython",
    "version": 3
   },
   "file_extension": ".py",
   "mimetype": "text/x-python",
   "name": "python",
   "nbconvert_exporter": "python",
   "pygments_lexer": "ipython3",
   "version": "3.8.3"
  }
 },
 "nbformat": 4,
 "nbformat_minor": 4
}
