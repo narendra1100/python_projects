{
 "cells": [
  {
   "cell_type": "code",
   "execution_count": 1,
   "metadata": {},
   "outputs": [],
   "source": [
    "from matplotlib import pyplot as plt"
   ]
  },
  {
   "cell_type": "code",
   "execution_count": 2,
   "metadata": {},
   "outputs": [],
   "source": [
    "import pandas as pd"
   ]
  },
  {
   "cell_type": "code",
   "execution_count": 3,
   "metadata": {},
   "outputs": [],
   "source": [
    "import numpy as np\n",
    "import random"
   ]
  },
  {
   "cell_type": "code",
   "execution_count": 4,
   "metadata": {},
   "outputs": [],
   "source": [
    "ages=[i for i in range(25,35)]"
   ]
  },
  {
   "cell_type": "code",
   "execution_count": 5,
   "metadata": {},
   "outputs": [
    {
     "data": {
      "text/plain": [
       "[25, 26, 27, 28, 29, 30, 31, 32, 33, 34]"
      ]
     },
     "execution_count": 5,
     "metadata": {},
     "output_type": "execute_result"
    }
   ],
   "source": [
    "ages"
   ]
  },
  {
   "cell_type": "code",
   "execution_count": 6,
   "metadata": {},
   "outputs": [],
   "source": [
    "import time"
   ]
  },
  {
   "cell_type": "code",
   "execution_count": 7,
   "metadata": {},
   "outputs": [
    {
     "name": "stdout",
     "output_type": "stream",
     "text": [
      "0\n",
      "30892\n",
      "1\n",
      "46298\n",
      "2\n",
      "46447\n",
      "3\n",
      "48300\n",
      "4\n",
      "48596\n",
      "5\n",
      "48721\n",
      "6\n",
      "49693\n",
      "7\n",
      "49736\n",
      "8\n",
      "49913\n"
     ]
    }
   ],
   "source": [
    "dev_sal=[25000]\n",
    "for h in range(9):\n",
    "    while True:\n",
    "        r=random.randint(25000,50000)\n",
    "        if r>max(dev_sal):\n",
    "            print(h)\n",
    "            print(r)\n",
    "            dev_sal.append(r)\n",
    "            break\n",
    "        else:\n",
    "            continue\n",
    "            \n"
   ]
  },
  {
   "cell_type": "code",
   "execution_count": 8,
   "metadata": {},
   "outputs": [
    {
     "data": {
      "text/plain": [
       "[25000, 30892, 46298, 46447, 48300, 48596, 48721, 49693, 49736, 49913]"
      ]
     },
     "execution_count": 8,
     "metadata": {},
     "output_type": "execute_result"
    }
   ],
   "source": [
    "\n",
    "dev_sal\n"
   ]
  },
  {
   "cell_type": "code",
   "execution_count": 28,
   "metadata": {},
   "outputs": [
    {
     "name": "stdout",
     "output_type": "stream",
     "text": [
      "0\n",
      "43889\n",
      "1\n",
      "54857\n",
      "2\n",
      "64489\n",
      "3\n",
      "65019\n",
      "4\n",
      "67107\n",
      "5\n",
      "69012\n",
      "6\n",
      "69534\n",
      "7\n",
      "69707\n",
      "8\n",
      "69917\n"
     ]
    }
   ],
   "source": [
    "py_sal=[35000]\n",
    "for h in range(9):\n",
    "    while True:\n",
    "        r=random.randint(35000,70000)\n",
    "        if r>max(py_sal):\n",
    "            print(h)\n",
    "            print(r)\n",
    "            py_sal.append(r)\n",
    "            break\n",
    "        else:\n",
    "            continue\n",
    "    \n"
   ]
  },
  {
   "cell_type": "code",
   "execution_count": 29,
   "metadata": {},
   "outputs": [
    {
     "data": {
      "text/plain": [
       "[35000, 43889, 54857, 64489, 65019, 67107, 69012, 69534, 69707, 69917]"
      ]
     },
     "execution_count": 29,
     "metadata": {},
     "output_type": "execute_result"
    }
   ],
   "source": [
    "py_sal"
   ]
  },
  {
   "cell_type": "code",
   "execution_count": 30,
   "metadata": {},
   "outputs": [
    {
     "data": {
      "text/plain": [
       "[25000, 30892, 46298, 46447, 48300, 48596, 48721, 49693, 49736, 49913]"
      ]
     },
     "execution_count": 30,
     "metadata": {},
     "output_type": "execute_result"
    }
   ],
   "source": [
    "dev_sal\n"
   ]
  },
  {
   "cell_type": "code",
   "execution_count": 38,
   "metadata": {},
   "outputs": [
    {
     "data": {
      "text/plain": [
       "[25, 26, 27, 28, 29, 30, 31, 32, 33, 34]"
      ]
     },
     "execution_count": 38,
     "metadata": {},
     "output_type": "execute_result"
    }
   ],
   "source": [
    "js=[30000,32454,34500,39000,41950,44567,47600,49000,51234,55000]\n",
    "\n",
    "'''\n",
    "#PLOTS\n",
    "plt.plot(ages,py_sal,label=\"python salary\",color=\"r\",linestyle=\":\",marker=\"D\")\n",
    "plt.plot(ages,dev_sal,label=\"devops salary\",color=\"m\")\n",
    "plt.plot(ages,js,label=\"java script salary\",linestyle=\"-.\")\n",
    "plt.grid(True)\n",
    "plt.legend()\n",
    "plt.title(\"programers salarys in software industry\")\n",
    "plt.xlabel(\"ages\")\n",
    "plt.ylabel(\"python and devops salary\")\n",
    "plt.tight_layout()\n",
    "plt.show()'''\n",
    "ages"
   ]
  },
  {
   "cell_type": "code",
   "execution_count": 52,
   "metadata": {},
   "outputs": [
    {
     "data": {
      "text/plain": [
       "<matplotlib.legend.Legend at 0x21847e4dd60>"
      ]
     },
     "execution_count": 52,
     "metadata": {},
     "output_type": "execute_result"
    },
    {
     "data": {
      "image/png": "[encoded data removed]",
      "text/plain": [
       "<Figure size 432x288 with 1 Axes>"
      ]
     },
     "metadata": {
      "needs_background": "light"
     },
     "output_type": "display_data"
    }
   ],
   "source": [
    "#plt.style.available\n",
    "#BAR PLOT\n",
    "'''\n",
    "plt.style.use(\"tableau-colorblind10\")\n",
    "x_bar=np.arange(10)\n",
    "width=0.25\n",
    "plt.bar(x_bar-width,py_sal,label=\"python salary\",color=\"m\",width=width)\n",
    "plt.bar(x_bar,js,label=\"javascript\",color=\"y\",width=width)\n",
    "plt.bar(x_bar+width,dev_sal,label=\"devops salary\",color=\"g\",width=width)\n",
    "\n",
    "plt.xticks(ticks=x_bar,labels=ages)\n",
    "\n",
    "plt.legend()\n",
    "'''\n"
   ]
  },
  {
   "cell_type": "code",
   "execution_count": 53,
   "metadata": {},
   "outputs": [
    {
     "data": {
      "text/plain": [
       "[25, 26, 27, 28, 29, 30, 31, 32, 33, 34]"
      ]
     },
     "execution_count": 53,
     "metadata": {},
     "output_type": "execute_result"
    }
   ],
   "source": [
    "ages"
   ]
  },
  {
   "cell_type": "code",
   "execution_count": 83,
   "metadata": {
    "scrolled": true
   },
   "outputs": [
    {
     "data": {
      "image/png": "[encoded data removed]",
      "text/plain": [
       "<Figure size 432x288 with 1 Axes>"
      ]
     },
     "metadata": {},
     "output_type": "display_data"
    }
   ],
   "source": [
    "sal=[50000,45000,37843,30000]\n",
    "lag=[\"python\",\"go\",\"js\",\"java\"]\n",
    "color=[\"m\",\"r\",\"y\",\"g\"]\n",
    "plt.pie(sal,labels=lag,colors=color,explode=[0.1,0,0,0],startangle=135,wedgeprops={\"edgecolor\":\"b\"},shadow=True,autopct=\"%1.1f%%\")\n",
    "plt.legend()\n",
    "plt.show()"
   ]
  },
  {
   "cell_type": "code",
   "execution_count": null,
   "metadata": {},
   "outputs": [],
   "source": []
  }
 ],
 "metadata": {
  "kernelspec": {
   "display_name": "Python 3",
   "language": "python",
   "name": "python3"
  },
  "language_info": {
   "codemirror_mode": {
    "name": "ipython",
    "version": 3
   },
   "file_extension": ".py",
   "mimetype": "text/x-python",
   "name": "python",
   "nbconvert_exporter": "python",
   "pygments_lexer": "ipython3",
   "version": "3.8.3"
  }
 },
 "nbformat": 4,
 "nbformat_minor": 4
}
