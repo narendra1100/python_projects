{
 "cells": [
  {
   "cell_type": "code",
   "execution_count": 2,
   "metadata": {},
   "outputs": [],
   "source": [
    "import pandas as pd\n"
   ]
  },
  {
   "cell_type": "code",
   "execution_count": 3,
   "metadata": {},
   "outputs": [],
   "source": [
    "df=pd.read_csv(\"E:\\data\\siva.csv\")"
   ]
  },
  {
   "cell_type": "code",
   "execution_count": 7,
   "metadata": {},
   "outputs": [
    {
     "data": {
      "text/html": [
       "<div>\n",
       "<style scoped>\n",
       "    .dataframe tbody tr th:only-of-type {\n",
       "        vertical-align: middle;\n",
       "    }\n",
       "\n",
       "    .dataframe tbody tr th {\n",
       "        vertical-align: top;\n",
       "    }\n",
       "\n",
       "    .dataframe thead th {\n",
       "        text-align: right;\n",
       "    }\n",
       "</style>\n",
       "<table border=\"1\" class=\"dataframe\">\n",
       "  <thead>\n",
       "    <tr style=\"text-align: right;\">\n",
       "      <th></th>\n",
       "      <th>Segment</th>\n",
       "      <th>Country</th>\n",
       "      <th>Product</th>\n",
       "      <th>Discount Band</th>\n",
       "      <th>Units Sold</th>\n",
       "      <th>Manufacturing Price</th>\n",
       "      <th>Sale Price</th>\n",
       "      <th>Gross Sales</th>\n",
       "      <th>Discounts</th>\n",
       "      <th>Sales</th>\n",
       "      <th>COGS</th>\n",
       "      <th>Profit</th>\n",
       "      <th>Month Number</th>\n",
       "      <th>Month Name</th>\n",
       "      <th>Year</th>\n",
       "    </tr>\n",
       "    <tr>\n",
       "      <th>Date</th>\n",
       "      <th></th>\n",
       "      <th></th>\n",
       "      <th></th>\n",
       "      <th></th>\n",
       "      <th></th>\n",
       "      <th></th>\n",
       "      <th></th>\n",
       "      <th></th>\n",
       "      <th></th>\n",
       "      <th></th>\n",
       "      <th></th>\n",
       "      <th></th>\n",
       "      <th></th>\n",
       "      <th></th>\n",
       "      <th></th>\n",
       "    </tr>\n",
       "  </thead>\n",
       "  <tbody>\n",
       "    <tr>\n",
       "      <th>01/01/2014</th>\n",
       "      <td>Government</td>\n",
       "      <td>Canada</td>\n",
       "      <td>Carretera</td>\n",
       "      <td>None</td>\n",
       "      <td>1618.5</td>\n",
       "      <td>$3.00</td>\n",
       "      <td>$20.00</td>\n",
       "      <td>$32,370.00</td>\n",
       "      <td>$-</td>\n",
       "      <td>$32,370.00</td>\n",
       "      <td>$16,185.00</td>\n",
       "      <td>$16,185.00</td>\n",
       "      <td>1</td>\n",
       "      <td>January</td>\n",
       "      <td>2014</td>\n",
       "    </tr>\n",
       "    <tr>\n",
       "      <th>01/01/2014</th>\n",
       "      <td>Government</td>\n",
       "      <td>Germany</td>\n",
       "      <td>Carretera</td>\n",
       "      <td>None</td>\n",
       "      <td>1321.0</td>\n",
       "      <td>$3.00</td>\n",
       "      <td>$20.00</td>\n",
       "      <td>$26,420.00</td>\n",
       "      <td>$-</td>\n",
       "      <td>$26,420.00</td>\n",
       "      <td>$13,210.00</td>\n",
       "      <td>$13,210.00</td>\n",
       "      <td>1</td>\n",
       "      <td>January</td>\n",
       "      <td>2014</td>\n",
       "    </tr>\n",
       "    <tr>\n",
       "      <th>01/06/2014</th>\n",
       "      <td>Midmarket</td>\n",
       "      <td>France</td>\n",
       "      <td>Carretera</td>\n",
       "      <td>None</td>\n",
       "      <td>2178.0</td>\n",
       "      <td>$3.00</td>\n",
       "      <td>$15.00</td>\n",
       "      <td>$32,670.00</td>\n",
       "      <td>$-</td>\n",
       "      <td>$32,670.00</td>\n",
       "      <td>$21,780.00</td>\n",
       "      <td>$10,890.00</td>\n",
       "      <td>6</td>\n",
       "      <td>June</td>\n",
       "      <td>2014</td>\n",
       "    </tr>\n",
       "    <tr>\n",
       "      <th>01/06/2014</th>\n",
       "      <td>Midmarket</td>\n",
       "      <td>Germany</td>\n",
       "      <td>Carretera</td>\n",
       "      <td>None</td>\n",
       "      <td>888.0</td>\n",
       "      <td>$3.00</td>\n",
       "      <td>$15.00</td>\n",
       "      <td>$13,320.00</td>\n",
       "      <td>$-</td>\n",
       "      <td>$13,320.00</td>\n",
       "      <td>$8,880.00</td>\n",
       "      <td>$4,440.00</td>\n",
       "      <td>6</td>\n",
       "      <td>June</td>\n",
       "      <td>2014</td>\n",
       "    </tr>\n",
       "    <tr>\n",
       "      <th>01/06/2014</th>\n",
       "      <td>Midmarket</td>\n",
       "      <td>Mexico</td>\n",
       "      <td>Carretera</td>\n",
       "      <td>None</td>\n",
       "      <td>2470.0</td>\n",
       "      <td>$3.00</td>\n",
       "      <td>$15.00</td>\n",
       "      <td>$37,050.00</td>\n",
       "      <td>$-</td>\n",
       "      <td>$37,050.00</td>\n",
       "      <td>$24,700.00</td>\n",
       "      <td>$12,350.00</td>\n",
       "      <td>6</td>\n",
       "      <td>June</td>\n",
       "      <td>2014</td>\n",
       "    </tr>\n",
       "  </tbody>\n",
       "</table>\n",
       "</div>"
      ],
      "text/plain": [
       "               Segment  Country     Product   Discount Band   Units Sold  \\\n",
       "Date                                                                       \n",
       "01/01/2014  Government   Canada   Carretera            None       1618.5   \n",
       "01/01/2014  Government  Germany   Carretera            None       1321.0   \n",
       "01/06/2014   Midmarket   France   Carretera            None       2178.0   \n",
       "01/06/2014   Midmarket  Germany   Carretera            None        888.0   \n",
       "01/06/2014   Midmarket   Mexico   Carretera            None       2470.0   \n",
       "\n",
       "            Manufacturing Price   Sale Price   Gross Sales   Discounts   \\\n",
       "Date                                                                      \n",
       "01/01/2014                $3.00       $20.00    $32,370.00        $-      \n",
       "01/01/2014                $3.00       $20.00    $26,420.00        $-      \n",
       "01/06/2014                $3.00       $15.00    $32,670.00        $-      \n",
       "01/06/2014                $3.00       $15.00    $13,320.00        $-      \n",
       "01/06/2014                $3.00       $15.00    $37,050.00        $-      \n",
       "\n",
       "                  Sales          COGS        Profit   Month Number  \\\n",
       "Date                                                                 \n",
       "01/01/2014   $32,370.00    $16,185.00    $16,185.00              1   \n",
       "01/01/2014   $26,420.00    $13,210.00    $13,210.00              1   \n",
       "01/06/2014   $32,670.00    $21,780.00    $10,890.00              6   \n",
       "01/06/2014   $13,320.00     $8,880.00     $4,440.00              6   \n",
       "01/06/2014   $37,050.00    $24,700.00    $12,350.00              6   \n",
       "\n",
       "            Month Name   Year  \n",
       "Date                           \n",
       "01/01/2014     January   2014  \n",
       "01/01/2014     January   2014  \n",
       "01/06/2014        June   2014  \n",
       "01/06/2014        June   2014  \n",
       "01/06/2014        June   2014  "
      ]
     },
     "execution_count": 7,
     "metadata": {},
     "output_type": "execute_result"
    }
   ],
   "source": [
    "df.head()"
   ]
  },
  {
   "cell_type": "code",
   "execution_count": 5,
   "metadata": {},
   "outputs": [],
   "source": [
    "df.set_index(\"Date\",inplace=True)"
   ]
  },
  {
   "cell_type": "code",
   "execution_count": 12,
   "metadata": {},
   "outputs": [],
   "source": [
    "df.columns=[x.lower() for x in df.columns]"
   ]
  },
  {
   "cell_type": "code",
   "execution_count": 15,
   "metadata": {},
   "outputs": [
    {
     "name": "stdout",
     "output_type": "stream",
     "text": [
      "<class 'pandas.core.frame.DataFrame'>\n",
      "Index: 700 entries, 01/01/2014 to 01/05/2014\n",
      "Data columns (total 15 columns):\n",
      " #   Column              Non-Null Count  Dtype  \n",
      "---  ------              --------------  -----  \n",
      " 0   segment             700 non-null    object \n",
      " 1   country             700 non-null    object \n",
      " 2   product             700 non-null    object \n",
      " 3   discountband        700 non-null    object \n",
      " 4   unitssold           700 non-null    float64\n",
      " 5   manufacturingprice  700 non-null    object \n",
      " 6   saleprice           700 non-null    object \n",
      " 7   grosssales          700 non-null    object \n",
      " 8   discounts           700 non-null    object \n",
      " 9   sales               700 non-null    object \n",
      " 10  cogs                700 non-null    object \n",
      " 11  profit              700 non-null    object \n",
      " 12  monthnumber         700 non-null    int64  \n",
      " 13  monthname           700 non-null    object \n",
      " 14  year                700 non-null    int64  \n",
      "dtypes: float64(1), int64(2), object(12)\n",
      "memory usage: 87.5+ KB\n"
     ]
    }
   ],
   "source": [
    "df.columns=df.columns.str.replace(\" \",\"\")"
   ]
  },
  {
   "cell_type": "code",
   "execution_count": 21,
   "metadata": {},
   "outputs": [
    {
     "data": {
      "text/plain": [
       "Index(['segment', 'country', 'product', 'discountband', 'unitssold',\n",
       "       'manufacturingprice', 'saleprice', 'grosssales', 'discounts', 'sales',\n",
       "       'cogs', 'profit', 'monthnumber', 'monthname', 'year'],\n",
       "      dtype='object')"
      ]
     },
     "execution_count": 21,
     "metadata": {},
     "output_type": "execute_result"
    }
   ],
   "source": [
    "df.columns"
   ]
  },
  {
   "cell_type": "code",
   "execution_count": 26,
   "metadata": {},
   "outputs": [
    {
     "data": {
      "text/plain": [
       "Index(['01/01/2014', '01/01/2014', '01/06/2014', '01/06/2014', '01/06/2014',\n",
       "       '01/12/2014', '01/03/2014', '01/06/2014', '01/06/2014', '01/06/2014',\n",
       "       ...\n",
       "       '01/10/2013', '01/10/2014', '01/11/2013', '01/11/2014', '01/12/2014',\n",
       "       '01/03/2014', '01/10/2014', '01/02/2014', '01/04/2014', '01/05/2014'],\n",
       "      dtype='object', name='Date', length=700)"
      ]
     },
     "execution_count": 26,
     "metadata": {},
     "output_type": "execute_result"
    }
   ],
   "source": [
    "df.index"
   ]
  },
  {
   "cell_type": "code",
   "execution_count": null,
   "metadata": {},
   "outputs": [],
   "source": []
  }
 ],
 "metadata": {
  "kernelspec": {
   "display_name": "Python 3",
   "language": "python",
   "name": "python3"
  },
  "language_info": {
   "codemirror_mode": {
    "name": "ipython",
    "version": 3
   },
   "file_extension": ".py",
   "mimetype": "text/x-python",
   "name": "python",
   "nbconvert_exporter": "python",
   "pygments_lexer": "ipython3",
   "version": "3.8.3"
  }
 },
 "nbformat": 4,
 "nbformat_minor": 4
}
