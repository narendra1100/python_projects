{
 "cells": [
  {
   "cell_type": "code",
   "execution_count": 1,
   "metadata": {},
   "outputs": [],
   "source": [
    "import pandas as pd\n",
    "import numpy as np\n",
    "from matplotlib import pyplot as plt\n",
    "import seaborn as sns"
   ]
  },
  {
   "cell_type": "code",
   "execution_count": 2,
   "metadata": {},
   "outputs": [],
   "source": [
    "df=pd.read_csv(\"E:\\\\data\\\\update_task.csv\")"
   ]
  },
  {
   "cell_type": "code",
   "execution_count": 3,
   "metadata": {},
   "outputs": [
    {
     "name": "stdout",
     "output_type": "stream",
     "text": [
      "<class 'pandas.core.frame.DataFrame'>\n",
      "RangeIndex: 7012 entries, 0 to 7011\n",
      "Data columns (total 31 columns):\n",
      " #   Column                          Non-Null Count  Dtype  \n",
      "---  ------                          --------------  -----  \n",
      " 0   host_since                      7012 non-null   object \n",
      " 1   host_response_time              6263 non-null   object \n",
      " 2   host_response_rate              6263 non-null   float64\n",
      " 3   host_is_superhost               7012 non-null   object \n",
      " 4   host_identity_verified          7012 non-null   object \n",
      " 5   neighbourhood                   7009 non-null   object \n",
      " 6   neighbourhood_group             7012 non-null   object \n",
      " 7   latitude                        7012 non-null   float64\n",
      " 8   longitude                       7012 non-null   float64\n",
      " 9   is_location_exact               7012 non-null   object \n",
      " 10  property_type                   7012 non-null   object \n",
      " 11  room_type                       7012 non-null   object \n",
      " 12  accommodates                    7012 non-null   int64  \n",
      " 13  bathrooms                       7008 non-null   float64\n",
      " 14  bedrooms                        7011 non-null   float64\n",
      " 15  beds                            6998 non-null   float64\n",
      " 16  amenities                       7012 non-null   object \n",
      " 17  price                           7012 non-null   int64  \n",
      " 18  security_deposit                5370 non-null   float64\n",
      " 19  cleaning_fee                    5609 non-null   float64\n",
      " 20  guests_included                 7012 non-null   int64  \n",
      " 21  extra_people                    7012 non-null   int64  \n",
      " 22  minimum_nights                  7012 non-null   int64  \n",
      " 23  maximum_nights                  7012 non-null   int64  \n",
      " 24  number_of_reviews               7012 non-null   int64  \n",
      " 25  number_of_reviews_ltm           7012 non-null   int64  \n",
      " 26  review_scores_rating            4705 non-null   float64\n",
      " 27  instant_bookable                7012 non-null   object \n",
      " 28  cancellation_policy             7012 non-null   object \n",
      " 29  calculated_host_listings_count  7012 non-null   int64  \n",
      " 30  reviews_per_month               4812 non-null   float64\n",
      "dtypes: float64(10), int64(9), object(12)\n",
      "memory usage: 1.7+ MB\n"
     ]
    }
   ],
   "source": [
    "df.info()"
   ]
  },
  {
   "cell_type": "code",
   "execution_count": 4,
   "metadata": {},
   "outputs": [],
   "source": [
    "df.drop(\"reviews_per_month\",axis=1,inplace=True)"
   ]
  },
  {
   "cell_type": "code",
   "execution_count": 5,
   "metadata": {},
   "outputs": [
    {
     "name": "stdout",
     "output_type": "stream",
     "text": [
      "<class 'pandas.core.frame.DataFrame'>\n",
      "RangeIndex: 7012 entries, 0 to 7011\n",
      "Data columns (total 30 columns):\n",
      " #   Column                          Non-Null Count  Dtype  \n",
      "---  ------                          --------------  -----  \n",
      " 0   host_since                      7012 non-null   object \n",
      " 1   host_response_time              6263 non-null   object \n",
      " 2   host_response_rate              6263 non-null   float64\n",
      " 3   host_is_superhost               7012 non-null   object \n",
      " 4   host_identity_verified          7012 non-null   object \n",
      " 5   neighbourhood                   7009 non-null   object \n",
      " 6   neighbourhood_group             7012 non-null   object \n",
      " 7   latitude                        7012 non-null   float64\n",
      " 8   longitude                       7012 non-null   float64\n",
      " 9   is_location_exact               7012 non-null   object \n",
      " 10  property_type                   7012 non-null   object \n",
      " 11  room_type                       7012 non-null   object \n",
      " 12  accommodates                    7012 non-null   int64  \n",
      " 13  bathrooms                       7008 non-null   float64\n",
      " 14  bedrooms                        7011 non-null   float64\n",
      " 15  beds                            6998 non-null   float64\n",
      " 16  amenities                       7012 non-null   object \n",
      " 17  price                           7012 non-null   int64  \n",
      " 18  security_deposit                5370 non-null   float64\n",
      " 19  cleaning_fee                    5609 non-null   float64\n",
      " 20  guests_included                 7012 non-null   int64  \n",
      " 21  extra_people                    7012 non-null   int64  \n",
      " 22  minimum_nights                  7012 non-null   int64  \n",
      " 23  maximum_nights                  7012 non-null   int64  \n",
      " 24  number_of_reviews               7012 non-null   int64  \n",
      " 25  number_of_reviews_ltm           7012 non-null   int64  \n",
      " 26  review_scores_rating            4705 non-null   float64\n",
      " 27  instant_bookable                7012 non-null   object \n",
      " 28  cancellation_policy             7012 non-null   object \n",
      " 29  calculated_host_listings_count  7012 non-null   int64  \n",
      "dtypes: float64(9), int64(9), object(12)\n",
      "memory usage: 1.6+ MB\n"
     ]
    }
   ],
   "source": [
    "df.info()"
   ]
  },
  {
   "cell_type": "code",
   "execution_count": 6,
   "metadata": {},
   "outputs": [],
   "source": [
    "df[\"host_since\"]=pd.to_datetime(df[\"host_since\"],format=\"%Y-%m-%d\")"
   ]
  },
  {
   "cell_type": "code",
   "execution_count": null,
   "metadata": {},
   "outputs": [],
   "source": []
  },
  {
   "cell_type": "code",
   "execution_count": 7,
   "metadata": {},
   "outputs": [],
   "source": [
    "df.to_csv(\"E:\\\\data\\\\cleandata.csv\",index=False)"
   ]
  },
  {
   "cell_type": "code",
   "execution_count": 192,
   "metadata": {},
   "outputs": [],
   "source": [
    "df=pd.read_csv(\"E:\\\\data\\\\cleandata.csv\")"
   ]
  },
  {
   "cell_type": "code",
   "execution_count": 193,
   "metadata": {},
   "outputs": [
    {
     "data": {
      "text/html": [
       "<div>\n",
       "<style scoped>\n",
       "    .dataframe tbody tr th:only-of-type {\n",
       "        vertical-align: middle;\n",
       "    }\n",
       "\n",
       "    .dataframe tbody tr th {\n",
       "        vertical-align: top;\n",
       "    }\n",
       "\n",
       "    .dataframe thead th {\n",
       "        text-align: right;\n",
       "    }\n",
       "</style>\n",
       "<table border=\"1\" class=\"dataframe\">\n",
       "  <thead>\n",
       "    <tr style=\"text-align: right;\">\n",
       "      <th></th>\n",
       "      <th>host_since</th>\n",
       "      <th>host_response_time</th>\n",
       "      <th>host_response_rate</th>\n",
       "      <th>host_is_superhost</th>\n",
       "      <th>host_identity_verified</th>\n",
       "      <th>neighbourhood</th>\n",
       "      <th>neighbourhood_group</th>\n",
       "      <th>latitude</th>\n",
       "      <th>longitude</th>\n",
       "      <th>is_location_exact</th>\n",
       "      <th>...</th>\n",
       "      <th>guests_included</th>\n",
       "      <th>extra_people</th>\n",
       "      <th>minimum_nights</th>\n",
       "      <th>maximum_nights</th>\n",
       "      <th>number_of_reviews</th>\n",
       "      <th>number_of_reviews_ltm</th>\n",
       "      <th>review_scores_rating</th>\n",
       "      <th>instant_bookable</th>\n",
       "      <th>cancellation_policy</th>\n",
       "      <th>calculated_host_listings_count</th>\n",
       "    </tr>\n",
       "  </thead>\n",
       "  <tbody>\n",
       "    <tr>\n",
       "      <th>0</th>\n",
       "      <td>2009-06-29</td>\n",
       "      <td>within an hour</td>\n",
       "      <td>1.0</td>\n",
       "      <td>t</td>\n",
       "      <td>f</td>\n",
       "      <td>Katong</td>\n",
       "      <td>Central Region</td>\n",
       "      <td>1.31070</td>\n",
       "      <td>103.90671</td>\n",
       "      <td>t</td>\n",
       "      <td>...</td>\n",
       "      <td>1</td>\n",
       "      <td>0</td>\n",
       "      <td>2</td>\n",
       "      <td>1125</td>\n",
       "      <td>24</td>\n",
       "      <td>24</td>\n",
       "      <td>96.0</td>\n",
       "      <td>f</td>\n",
       "      <td>moderate</td>\n",
       "      <td>1</td>\n",
       "    </tr>\n",
       "    <tr>\n",
       "      <th>1</th>\n",
       "      <td>2009-12-02</td>\n",
       "      <td>within an hour</td>\n",
       "      <td>1.0</td>\n",
       "      <td>f</td>\n",
       "      <td>t</td>\n",
       "      <td>Ang Mo Kio</td>\n",
       "      <td>North-East Region</td>\n",
       "      <td>1.37398</td>\n",
       "      <td>103.83069</td>\n",
       "      <td>t</td>\n",
       "      <td>...</td>\n",
       "      <td>1</td>\n",
       "      <td>10</td>\n",
       "      <td>2</td>\n",
       "      <td>1125</td>\n",
       "      <td>45</td>\n",
       "      <td>6</td>\n",
       "      <td>96.0</td>\n",
       "      <td>t</td>\n",
       "      <td>strict_14_with_grace_period</td>\n",
       "      <td>3</td>\n",
       "    </tr>\n",
       "    <tr>\n",
       "      <th>2</th>\n",
       "      <td>2009-12-02</td>\n",
       "      <td>within an hour</td>\n",
       "      <td>1.0</td>\n",
       "      <td>f</td>\n",
       "      <td>t</td>\n",
       "      <td>Ang Mo Kio</td>\n",
       "      <td>North-East Region</td>\n",
       "      <td>1.37326</td>\n",
       "      <td>103.82962</td>\n",
       "      <td>f</td>\n",
       "      <td>...</td>\n",
       "      <td>1</td>\n",
       "      <td>10</td>\n",
       "      <td>2</td>\n",
       "      <td>1125</td>\n",
       "      <td>18</td>\n",
       "      <td>3</td>\n",
       "      <td>98.0</td>\n",
       "      <td>t</td>\n",
       "      <td>strict_14_with_grace_period</td>\n",
       "      <td>3</td>\n",
       "    </tr>\n",
       "    <tr>\n",
       "      <th>3</th>\n",
       "      <td>2009-12-02</td>\n",
       "      <td>within an hour</td>\n",
       "      <td>1.0</td>\n",
       "      <td>f</td>\n",
       "      <td>t</td>\n",
       "      <td>Ang Mo Kio</td>\n",
       "      <td>North-East Region</td>\n",
       "      <td>1.37478</td>\n",
       "      <td>103.83141</td>\n",
       "      <td>f</td>\n",
       "      <td>...</td>\n",
       "      <td>2</td>\n",
       "      <td>15</td>\n",
       "      <td>2</td>\n",
       "      <td>1125</td>\n",
       "      <td>26</td>\n",
       "      <td>3</td>\n",
       "      <td>99.0</td>\n",
       "      <td>t</td>\n",
       "      <td>strict_14_with_grace_period</td>\n",
       "      <td>3</td>\n",
       "    </tr>\n",
       "    <tr>\n",
       "      <th>4</th>\n",
       "      <td>2010-07-13</td>\n",
       "      <td>within a few hours</td>\n",
       "      <td>1.0</td>\n",
       "      <td>t</td>\n",
       "      <td>t</td>\n",
       "      <td>Novena</td>\n",
       "      <td>Central Region</td>\n",
       "      <td>1.31972</td>\n",
       "      <td>103.84568</td>\n",
       "      <td>t</td>\n",
       "      <td>...</td>\n",
       "      <td>1</td>\n",
       "      <td>0</td>\n",
       "      <td>5</td>\n",
       "      <td>365</td>\n",
       "      <td>27</td>\n",
       "      <td>19</td>\n",
       "      <td>99.0</td>\n",
       "      <td>f</td>\n",
       "      <td>strict_14_with_grace_period</td>\n",
       "      <td>2</td>\n",
       "    </tr>\n",
       "  </tbody>\n",
       "</table>\n",
       "<p>5 rows × 30 columns</p>\n",
       "</div>"
      ],
      "text/plain": [
       "   host_since  host_response_time  host_response_rate host_is_superhost  \\\n",
       "0  2009-06-29      within an hour                 1.0                 t   \n",
       "1  2009-12-02      within an hour                 1.0                 f   \n",
       "2  2009-12-02      within an hour                 1.0                 f   \n",
       "3  2009-12-02      within an hour                 1.0                 f   \n",
       "4  2010-07-13  within a few hours                 1.0                 t   \n",
       "\n",
       "  host_identity_verified neighbourhood neighbourhood_group  latitude  \\\n",
       "0                      f        Katong      Central Region   1.31070   \n",
       "1                      t    Ang Mo Kio   North-East Region   1.37398   \n",
       "2                      t    Ang Mo Kio   North-East Region   1.37326   \n",
       "3                      t    Ang Mo Kio   North-East Region   1.37478   \n",
       "4                      t        Novena      Central Region   1.31972   \n",
       "\n",
       "   longitude is_location_exact  ... guests_included extra_people  \\\n",
       "0  103.90671                 t  ...               1            0   \n",
       "1  103.83069                 t  ...               1           10   \n",
       "2  103.82962                 f  ...               1           10   \n",
       "3  103.83141                 f  ...               2           15   \n",
       "4  103.84568                 t  ...               1            0   \n",
       "\n",
       "   minimum_nights  maximum_nights  number_of_reviews  number_of_reviews_ltm  \\\n",
       "0               2            1125                 24                     24   \n",
       "1               2            1125                 45                      6   \n",
       "2               2            1125                 18                      3   \n",
       "3               2            1125                 26                      3   \n",
       "4               5             365                 27                     19   \n",
       "\n",
       "  review_scores_rating  instant_bookable          cancellation_policy  \\\n",
       "0                 96.0                 f                     moderate   \n",
       "1                 96.0                 t  strict_14_with_grace_period   \n",
       "2                 98.0                 t  strict_14_with_grace_period   \n",
       "3                 99.0                 t  strict_14_with_grace_period   \n",
       "4                 99.0                 f  strict_14_with_grace_period   \n",
       "\n",
       "   calculated_host_listings_count  \n",
       "0                               1  \n",
       "1                               3  \n",
       "2                               3  \n",
       "3                               3  \n",
       "4                               2  \n",
       "\n",
       "[5 rows x 30 columns]"
      ]
     },
     "execution_count": 193,
     "metadata": {},
     "output_type": "execute_result"
    }
   ],
   "source": [
    "df.head()"
   ]
  },
  {
   "cell_type": "code",
   "execution_count": 194,
   "metadata": {},
   "outputs": [
    {
     "data": {
      "text/plain": [
       "array(['within an hour', 'within a few hours', 'a few days or more', nan,\n",
       "       'within a day'], dtype=object)"
      ]
     },
     "execution_count": 194,
     "metadata": {},
     "output_type": "execute_result"
    }
   ],
   "source": [
    "df.host_response_time.unique()"
   ]
  },
  {
   "cell_type": "code",
   "execution_count": 195,
   "metadata": {},
   "outputs": [],
   "source": [
    "df.host_response_time.replace({np.nan:\"unknow\"},inplace=True)"
   ]
  },
  {
   "cell_type": "code",
   "execution_count": 196,
   "metadata": {},
   "outputs": [],
   "source": [
    "df.host_response_rate.replace({np.nan:1},inplace=True)"
   ]
  },
  {
   "cell_type": "code",
   "execution_count": 197,
   "metadata": {},
   "outputs": [],
   "source": [
    "df.bathrooms.replace({np.nan:1},inplace=True)"
   ]
  },
  {
   "cell_type": "code",
   "execution_count": 198,
   "metadata": {},
   "outputs": [],
   "source": [
    "df.beds.replace({np.nan:1},inplace=True)"
   ]
  },
  {
   "cell_type": "code",
   "execution_count": 199,
   "metadata": {},
   "outputs": [],
   "source": [
    "df.bedrooms.replace(np.nan,1,inplace=True)"
   ]
  },
  {
   "cell_type": "code",
   "execution_count": 200,
   "metadata": {},
   "outputs": [
    {
     "data": {
      "text/plain": [
       "0.0       1795\n",
       "200.0      720\n",
       "300.0      623\n",
       "500.0      468\n",
       "250.0      456\n",
       "          ... \n",
       "5888.0       1\n",
       "236.0        1\n",
       "3441.0       1\n",
       "550.0        1\n",
       "2204.0       1\n",
       "Name: security_deposit, Length: 139, dtype: int64"
      ]
     },
     "execution_count": 200,
     "metadata": {},
     "output_type": "execute_result"
    }
   ],
   "source": [
    "df.security_deposit.value_counts()"
   ]
  },
  {
   "cell_type": "code",
   "execution_count": 201,
   "metadata": {},
   "outputs": [
    {
     "data": {
      "text/plain": [
       "(7012, 30)"
      ]
     },
     "execution_count": 201,
     "metadata": {},
     "output_type": "execute_result"
    }
   ],
   "source": [
    "#sns.distplot(df.neighbourhood)\n",
    "df.neighbourhood.value_counts()\n",
    "df.shape"
   ]
  },
  {
   "cell_type": "code",
   "execution_count": 202,
   "metadata": {},
   "outputs": [],
   "source": [
    "df.drop(\"neighbourhood\",axis=1,inplace=True)"
   ]
  },
  {
   "cell_type": "code",
   "execution_count": 203,
   "metadata": {},
   "outputs": [
    {
     "data": {
      "text/plain": [
       "(7012, 29)"
      ]
     },
     "execution_count": 203,
     "metadata": {},
     "output_type": "execute_result"
    }
   ],
   "source": [
    "df.shape"
   ]
  },
  {
   "cell_type": "code",
   "execution_count": 204,
   "metadata": {},
   "outputs": [],
   "source": [
    "#df.cleaning_fee.value_counts(normalize=True,dropna=False)\n",
    "#(df.cleaning_fee.replace({np.nan:df.cleaning_fee.median(),0.0:df.cleaning_fee.median()},inplace=True))#.value_counts(normalize=True)"
   ]
  },
  {
   "cell_type": "code",
   "execution_count": 205,
   "metadata": {},
   "outputs": [],
   "source": [
    "#df.cleaning_fee.value_counts(normalize=True,dropna=False)\n",
    "#df.cleaning_fee.median()\n",
    "#sns.distplot(np.sqrt(df.cleaning_fee))\n",
    "#df.cleaning_fee.replace({np.nan:np.median(df.cleaning_fee),0:np.median(df.cleaning_fee)},inplace=True)"
   ]
  },
  {
   "cell_type": "code",
   "execution_count": 206,
   "metadata": {},
   "outputs": [],
   "source": [
    "#df.cleaning_fee.replace({np.nan:df.cleaning_fee.median()},inplace=True)"
   ]
  },
  {
   "cell_type": "code",
   "execution_count": 207,
   "metadata": {},
   "outputs": [],
   "source": [
    "#sns.boxplot((df.cleaning_fee.replace(0.0,df.cleaning_fee.mean())))"
   ]
  },
  {
   "cell_type": "code",
   "execution_count": 208,
   "metadata": {},
   "outputs": [
    {
     "data": {
      "text/plain": [
       "host_since                           0\n",
       "host_response_time                   0\n",
       "host_response_rate                   0\n",
       "host_is_superhost                    0\n",
       "host_identity_verified               0\n",
       "neighbourhood_group                  0\n",
       "latitude                             0\n",
       "longitude                            0\n",
       "is_location_exact                    0\n",
       "property_type                        0\n",
       "room_type                            0\n",
       "accommodates                         0\n",
       "bathrooms                            0\n",
       "bedrooms                             0\n",
       "beds                                 0\n",
       "amenities                            0\n",
       "price                                0\n",
       "security_deposit                  1642\n",
       "cleaning_fee                      1403\n",
       "guests_included                      0\n",
       "extra_people                         0\n",
       "minimum_nights                       0\n",
       "maximum_nights                       0\n",
       "number_of_reviews                    0\n",
       "number_of_reviews_ltm                0\n",
       "review_scores_rating              2307\n",
       "instant_bookable                     0\n",
       "cancellation_policy                  0\n",
       "calculated_host_listings_count       0\n",
       "dtype: int64"
      ]
     },
     "execution_count": 208,
     "metadata": {},
     "output_type": "execute_result"
    }
   ],
   "source": [
    "#sns.boxplot(df.cleaning_fee)\n",
    "df.isna().sum()"
   ]
  },
  {
   "cell_type": "code",
   "execution_count": 213,
   "metadata": {},
   "outputs": [
    {
     "data": {
      "text/plain": [
       "<matplotlib.axes._subplots.AxesSubplot at 0x1766e9894c0>"
      ]
     },
     "execution_count": 213,
     "metadata": {},
     "output_type": "execute_result"
    },
    {
     "data": {
      "image/png": "[encoded data removed]",
      "text/plain": [
       "<Figure size 432x288 with 1 Axes>"
      ]
     },
     "metadata": {
      "needs_background": "light"
     },
     "output_type": "display_data"
    }
   ],
   "source": [
    "#sns.boxplot((df.security_deposit))#.value_counts(dropna=False)\n",
    "#df.security_deposit=df[\"security_deposit\"].apply(lambda s:np.sqrt(s))\n",
    "sns.distplot(df.security_deposit)"
   ]
  },
  {
   "cell_type": "code",
   "execution_count": 211,
   "metadata": {},
   "outputs": [
    {
     "data": {
      "text/plain": [
       "<matplotlib.axes._subplots.AxesSubplot at 0x1766d7e9100>"
      ]
     },
     "execution_count": 211,
     "metadata": {},
     "output_type": "execute_result"
    },
    {
     "data": {
      "image/png": "[encoded data removed]",
      "text/plain": [
       "<Figure size 432x288 with 1 Axes>"
      ]
     },
     "metadata": {
      "needs_background": "light"
     },
     "output_type": "display_data"
    }
   ],
   "source": [
    "sns.boxplot(df.security_deposit)#.value_counts(normalize=True,dropna=False)"
   ]
  },
  {
   "cell_type": "code",
   "execution_count": null,
   "metadata": {},
   "outputs": [],
   "source": []
  },
  {
   "cell_type": "code",
   "execution_count": null,
   "metadata": {},
   "outputs": [],
   "source": []
  },
  {
   "cell_type": "code",
   "execution_count": null,
   "metadata": {},
   "outputs": [],
   "source": []
  }
 ],
 "metadata": {
  "kernelspec": {
   "display_name": "Python 3",
   "language": "python",
   "name": "python3"
  },
  "language_info": {
   "codemirror_mode": {
    "name": "ipython",
    "version": 3
   },
   "file_extension": ".py",
   "mimetype": "text/x-python",
   "name": "python",
   "nbconvert_exporter": "python",
   "pygments_lexer": "ipython3",
   "version": "3.8.3"
  }
 },
 "nbformat": 4,
 "nbformat_minor": 4
}
