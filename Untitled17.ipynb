{
 "cells": [
  {
   "cell_type": "code",
   "execution_count": 1,
   "metadata": {},
   "outputs": [],
   "source": [
    "import pandas as pd\n",
    "import numpy as np\n",
    "import seaborn as sns"
   ]
  },
  {
   "cell_type": "code",
   "execution_count": 2,
   "metadata": {},
   "outputs": [
    {
     "name": "stderr",
     "output_type": "stream",
     "text": [
      "E:\\anakonda\\lib\\site-packages\\IPython\\core\\interactiveshell.py:3071: DtypeWarning: Columns (34) have mixed types.Specify dtype option on import or set low_memory=False.\n",
      "  has_raised = await self.run_ast_nodes(code_ast.body, cell_name,\n"
     ]
    }
   ],
   "source": [
    "df=pd.read_csv(\"E:\\\\data\\hari.csv\")"
   ]
  },
  {
   "cell_type": "code",
   "execution_count": 4,
   "metadata": {},
   "outputs": [
    {
     "data": {
      "text/plain": [
       "Index(['Unnamed: 0', 'warehouse', 'ordercreateddate', 'ordercreatedtime',\n",
       "       'orderno', 'customer_wh', 'customer_whname', 'shiptocity',\n",
       "       'shiptostate', 'shiptopincode', 'externaldoc_customerpono',\n",
       "       'consignmentid', 'orderqty', 'ordervalue', 'picklistno',\n",
       "       'picklistgenerateddate', 'picklistgeneratedtime',\n",
       "       'picklistgeneratedqty', 'picklistreleaseddate', 'picklistreleasedtime',\n",
       "       'pendingtobegeneratedqty', 'orderplreleasedqty', 'plreleasediorderqty',\n",
       "       'plregisteredqty', 'invoice_ptsqty', 'iorderinvoiceqty',\n",
       "       'loadsaveinvoiceqty', 'invoice_ptsno', 'invoicevalue', 'invoicedate',\n",
       "       'invoicetime', 'rrdate', 'dispatchdate_3pl_', 'lspname', 'awbno',\n",
       "       'awbdate', 'waybillno', 'esugamno', 'estdeliverydate'],\n",
       "      dtype='object')"
      ]
     },
     "execution_count": 4,
     "metadata": {},
     "output_type": "execute_result"
    }
   ],
   "source": [
    "df.columns"
   ]
  },
  {
   "cell_type": "code",
   "execution_count": 5,
   "metadata": {},
   "outputs": [],
   "source": [
    "df.drop([\"Unnamed: 0\"],axis=\"columns\",inplace=True)"
   ]
  },
  {
   "cell_type": "code",
   "execution_count": 6,
   "metadata": {},
   "outputs": [
    {
     "data": {
      "text/plain": [
       "(20048, 38)"
      ]
     },
     "execution_count": 6,
     "metadata": {},
     "output_type": "execute_result"
    }
   ],
   "source": [
    "df.shape"
   ]
  },
  {
   "cell_type": "code",
   "execution_count": 8,
   "metadata": {},
   "outputs": [
    {
     "name": "stdout",
     "output_type": "stream",
     "text": [
      "<class 'pandas.core.frame.DataFrame'>\n",
      "RangeIndex: 20048 entries, 0 to 20047\n",
      "Data columns (total 38 columns):\n",
      " #   Column                    Non-Null Count  Dtype  \n",
      "---  ------                    --------------  -----  \n",
      " 0   warehouse                 20048 non-null  object \n",
      " 1   ordercreateddate          20048 non-null  int64  \n",
      " 2   ordercreatedtime          20048 non-null  float64\n",
      " 3   orderno                   20048 non-null  object \n",
      " 4   customer_wh               20048 non-null  int64  \n",
      " 5   customer_whname           20048 non-null  object \n",
      " 6   shiptocity                20046 non-null  object \n",
      " 7   shiptostate               20046 non-null  object \n",
      " 8   shiptopincode             20047 non-null  float64\n",
      " 9   externaldoc_customerpono  20045 non-null  object \n",
      " 10  consignmentid             19940 non-null  object \n",
      " 11  orderqty                  20047 non-null  float64\n",
      " 12  ordervalue                20047 non-null  float64\n",
      " 13  picklistno                19449 non-null  object \n",
      " 14  picklistgenerateddate     19449 non-null  float64\n",
      " 15  picklistgeneratedtime     20047 non-null  float64\n",
      " 16  picklistgeneratedqty      20047 non-null  float64\n",
      " 17  picklistreleaseddate      19449 non-null  float64\n",
      " 18  picklistreleasedtime      20047 non-null  float64\n",
      " 19  pendingtobegeneratedqty   20047 non-null  float64\n",
      " 20  orderplreleasedqty        20047 non-null  float64\n",
      " 21  plreleasediorderqty       20047 non-null  float64\n",
      " 22  plregisteredqty           20047 non-null  float64\n",
      " 23  invoice_ptsqty            20047 non-null  float64\n",
      " 24  iorderinvoiceqty          20047 non-null  float64\n",
      " 25  loadsaveinvoiceqty        20047 non-null  float64\n",
      " 26  invoice_ptsno             19465 non-null  object \n",
      " 27  invoicevalue              20047 non-null  float64\n",
      " 28  invoicedate               19465 non-null  float64\n",
      " 29  invoicetime               20047 non-null  float64\n",
      " 30  rrdate                    19454 non-null  float64\n",
      " 31  dispatchdate_3pl_         18861 non-null  float64\n",
      " 32  lspname                   18861 non-null  object \n",
      " 33  awbno                     18860 non-null  object \n",
      " 34  awbdate                   18861 non-null  float64\n",
      " 35  waybillno                 18833 non-null  object \n",
      " 36  esugamno                  18838 non-null  object \n",
      " 37  estdeliverydate           20047 non-null  float64\n",
      "dtypes: float64(23), int64(2), object(13)\n",
      "memory usage: 5.8+ MB\n"
     ]
    }
   ],
   "source": [
    "df.info()"
   ]
  },
  {
   "cell_type": "code",
   "execution_count": null,
   "metadata": {},
   "outputs": [],
   "source": []
  }
 ],
 "metadata": {
  "kernelspec": {
   "display_name": "Python 3",
   "language": "python",
   "name": "python3"
  },
  "language_info": {
   "codemirror_mode": {
    "name": "ipython",
    "version": 3
   },
   "file_extension": ".py",
   "mimetype": "text/x-python",
   "name": "python",
   "nbconvert_exporter": "python",
   "pygments_lexer": "ipython3",
   "version": "3.8.3"
  }
 },
 "nbformat": 4,
 "nbformat_minor": 4
}
