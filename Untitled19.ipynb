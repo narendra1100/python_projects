{
 "cells": [
  {
   "cell_type": "code",
   "execution_count": 1,
   "metadata": {},
   "outputs": [],
   "source": [
    "import pandas as pd"
   ]
  },
  {
   "cell_type": "code",
   "execution_count": 2,
   "metadata": {},
   "outputs": [],
   "source": [
    "import numpy as np"
   ]
  },
  {
   "cell_type": "code",
   "execution_count": 3,
   "metadata": {},
   "outputs": [],
   "source": [
    "import seaborn as sns"
   ]
  },
  {
   "cell_type": "code",
   "execution_count": 4,
   "metadata": {},
   "outputs": [
    {
     "name": "stderr",
     "output_type": "stream",
     "text": [
      "E:\\anakonda\\lib\\site-packages\\IPython\\core\\interactiveshell.py:3071: DtypeWarning: Columns (34) have mixed types.Specify dtype option on import or set low_memory=False.\n",
      "  has_raised = await self.run_ast_nodes(code_ast.body, cell_name,\n"
     ]
    }
   ],
   "source": [
    "df=pd.read_csv(\"E:\\\\data\\hari.csv\")"
   ]
  },
  {
   "cell_type": "code",
   "execution_count": 6,
   "metadata": {},
   "outputs": [],
   "source": [
    "df.drop([\"Unnamed: 0\"],axis=\"columns\",inplace=True)"
   ]
  },
  {
   "cell_type": "code",
   "execution_count": 10,
   "metadata": {},
   "outputs": [
    {
     "name": "stdout",
     "output_type": "stream",
     "text": [
      "Index(['warehouse', 'ordercreateddate', 'ordercreatedtime', 'orderno',\n",
      "       'customer_wh', 'customer_whname', 'shiptocity', 'shiptostate',\n",
      "       'shiptopincode', 'externaldoc_customerpono', 'consignmentid',\n",
      "       'orderqty', 'ordervalue', 'picklistno', 'picklistgenerateddate',\n",
      "       'picklistgeneratedtime', 'picklistgeneratedqty', 'picklistreleaseddate',\n",
      "       'picklistreleasedtime', 'pendingtobegeneratedqty', 'orderplreleasedqty',\n",
      "       'plreleasediorderqty', 'plregisteredqty', 'invoice_ptsqty',\n",
      "       'iorderinvoiceqty', 'loadsaveinvoiceqty', 'invoice_ptsno',\n",
      "       'invoicevalue', 'invoicedate', 'invoicetime', 'rrdate',\n",
      "       'dispatchdate_3pl_', 'lspname', 'awbno', 'awbdate', 'waybillno',\n",
      "       'esugamno', 'estdeliverydate'],\n",
      "      dtype='object')\n"
     ]
    }
   ],
   "source": [
    "print(df.columns)"
   ]
  },
  {
   "cell_type": "code",
   "execution_count": 55,
   "metadata": {},
   "outputs": [
    {
     "data": {
      "text/plain": [
       "<matplotlib.axes._subplots.AxesSubplot at 0x2940e7c57f0>"
      ]
     },
     "execution_count": 55,
     "metadata": {},
     "output_type": "execute_result"
    },
    {
     "data": {
      "image/png": "[encoded data removed]",
      "text/plain": [
       "<Figure size 432x288 with 1 Axes>"
      ]
     },
     "metadata": {
      "needs_background": "light"
     },
     "output_type": "display_data"
    }
   ],
   "source": [
    "#sns.distplot(df.externaldoc_customerpono.value_counts())\n",
    "sns.boxplot(df.externaldoc_customerpono.value_counts())\n",
    "#sns.barplot(df.shiptopincode.value_counts())\n",
    "#df.externaldoc_customerpono.value_counts()"
   ]
  },
  {
   "cell_type": "code",
   "execution_count": null,
   "metadata": {},
   "outputs": [],
   "source": []
  }
 ],
 "metadata": {
  "kernelspec": {
   "display_name": "Python 3",
   "language": "python",
   "name": "python3"
  },
  "language_info": {
   "codemirror_mode": {
    "name": "ipython",
    "version": 3
   },
   "file_extension": ".py",
   "mimetype": "text/x-python",
   "name": "python",
   "nbconvert_exporter": "python",
   "pygments_lexer": "ipython3",
   "version": "3.8.3"
  }
 },
 "nbformat": 4,
 "nbformat_minor": 4
}
